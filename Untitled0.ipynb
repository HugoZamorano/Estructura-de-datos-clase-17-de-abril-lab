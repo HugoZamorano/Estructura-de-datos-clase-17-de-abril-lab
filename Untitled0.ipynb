{
  "nbformat": 4,
  "nbformat_minor": 0,
  "metadata": {
    "colab": {
      "name": "Untitled0.ipynb",
      "version": "0.3.2",
      "provenance": []
    },
    "kernelspec": {
      "name": "python3",
      "display_name": "Python 3"
    }
  },
  "cells": [
    {
      "metadata": {
        "id": "V2rTvILbOOvY",
        "colab_type": "code",
        "colab": {}
      },
      "cell_type": "code",
      "source": [
        ""
      ],
      "execution_count": 0,
      "outputs": []
    },
    {
      "metadata": {
        "id": "L3sB5qOyOQLJ",
        "colab_type": "text"
      },
      "cell_type": "markdown",
      "source": [
        ""
      ]
    },
    {
      "metadata": {
        "id": "IRvWQBmPOQMn",
        "colab_type": "text"
      },
      "cell_type": "markdown",
      "source": [
        "##Estructura Discreta \n",
        "##Hugo Zamorano 8-876-1924"
      ]
    },
    {
      "metadata": {
        "id": "7MoqvOMPOuuS",
        "colab_type": "code",
        "colab": {
          "base_uri": "https://localhost:8080/",
          "height": 34
        },
        "outputId": "734e7daa-ecce-4277-f832-7c27b407dc3e"
      },
      "cell_type": "code",
      "source": [
        "x = 12\n",
        "if x > 10:\n",
        "  print(\"Mayor a diez\")"
      ],
      "execution_count": 1,
      "outputs": [
        {
          "output_type": "stream",
          "text": [
            "Mayor a diez\n"
          ],
          "name": "stdout"
        }
      ]
    },
    {
      "metadata": {
        "id": "dPLH5IkGP8J5",
        "colab_type": "code",
        "colab": {
          "base_uri": "https://localhost:8080/",
          "height": 34
        },
        "outputId": "a15b3e10-f60e-4d05-b87c-e0bcd8b71267"
      },
      "cell_type": "code",
      "source": [
        "x = 12\n",
        "if x > 10:\n",
        "  print(\"Mayor a diez\")\n",
        "  \n",
        "else:\n",
        "  print(\"Menor a diez\")\n",
        "  "
      ],
      "execution_count": 2,
      "outputs": [
        {
          "output_type": "stream",
          "text": [
            "Mayor a diez\n"
          ],
          "name": "stdout"
        }
      ]
    },
    {
      "metadata": {
        "id": "nXQIrLtcQX7Y",
        "colab_type": "code",
        "colab": {
          "base_uri": "https://localhost:8080/",
          "height": 34
        },
        "outputId": "4bfcbd46-89ba-4058-f748-472221b49a80"
      },
      "cell_type": "code",
      "source": [
        "x = 10\n",
        "y = 12\n",
        "if x > y:\n",
        "  print(\"X es mayor que Y\")\n",
        "elif x < y:\n",
        "    print(\"X es menor que Y\")\n",
        "else:\n",
        "  print(\"Son iguales\")"
      ],
      "execution_count": 8,
      "outputs": [
        {
          "output_type": "stream",
          "text": [
            "X es menor que Y\n"
          ],
          "name": "stdout"
        }
      ]
    },
    {
      "metadata": {
        "id": "Laki1JeLSiOK",
        "colab_type": "code",
        "colab": {
          "base_uri": "https://localhost:8080/",
          "height": 102
        },
        "outputId": "09619a2a-8fcd-4287-adce-d96f11b94c17"
      },
      "cell_type": "code",
      "source": [
        "for h in range (5):\n",
        "  print(h)"
      ],
      "execution_count": 10,
      "outputs": [
        {
          "output_type": "stream",
          "text": [
            "0\n",
            "1\n",
            "2\n",
            "3\n",
            "4\n"
          ],
          "name": "stdout"
        }
      ]
    },
    {
      "metadata": {
        "id": "tazlimp3TO_D",
        "colab_type": "code",
        "colab": {
          "base_uri": "https://localhost:8080/",
          "height": 68
        },
        "outputId": "741db9bd-7588-42c2-f0fb-f05b3edc66c8"
      },
      "cell_type": "code",
      "source": [
        "list_of_lists = [(1,2,3),(4,5,6),(6,7,8,9)]\n",
        "for list1 in list_of_lists:\n",
        "  print(list1)"
      ],
      "execution_count": 16,
      "outputs": [
        {
          "output_type": "stream",
          "text": [
            "(1, 2, 3)\n",
            "(4, 5, 6)\n",
            "(6, 7, 8, 9)\n"
          ],
          "name": "stdout"
        }
      ]
    },
    {
      "metadata": {
        "id": "bWCx_I2sVNwL",
        "colab_type": "code",
        "colab": {
          "base_uri": "https://localhost:8080/",
          "height": 187
        },
        "outputId": "2a1ba09b-3352-4029-fa7e-b3447ddf9b58"
      },
      "cell_type": "code",
      "source": [
        "list_of_lists = [(1,2,3),(4,5,6),(6,7,8,9)]\n",
        "for list1 in list_of_lists:\n",
        "  for x in list1:\n",
        "    print(x)"
      ],
      "execution_count": 17,
      "outputs": [
        {
          "output_type": "stream",
          "text": [
            "1\n",
            "2\n",
            "3\n",
            "4\n",
            "5\n",
            "6\n",
            "6\n",
            "7\n",
            "8\n",
            "9\n"
          ],
          "name": "stdout"
        }
      ]
    },
    {
      "metadata": {
        "id": "weN1hWH7WNkj",
        "colab_type": "code",
        "colab": {
          "base_uri": "https://localhost:8080/",
          "height": 68
        },
        "outputId": "75b3a6dd-09b0-44e6-bb7e-02c3719a8135"
      },
      "cell_type": "code",
      "source": [
        "i = 1\n",
        "while i < 3: \n",
        "  print(i**2)\n",
        "  i = i + 1\n",
        "print(\"Adios\")"
      ],
      "execution_count": 18,
      "outputs": [
        {
          "output_type": "stream",
          "text": [
            "1\n",
            "4\n",
            "Adios\n"
          ],
          "name": "stdout"
        }
      ]
    },
    {
      "metadata": {
        "id": "dV-C9tBVW5v6",
        "colab_type": "code",
        "colab": {
          "base_uri": "https://localhost:8080/",
          "height": 153
        },
        "outputId": "2b2cd87d-cf60-49c6-cdb8-288e9e41b19e"
      },
      "cell_type": "code",
      "source": [
        "for i in range (100):\n",
        "  print(i)\n",
        "  if i >= 7:\n",
        "    break\n",
        "    "
      ],
      "execution_count": 23,
      "outputs": [
        {
          "output_type": "stream",
          "text": [
            "0\n",
            "1\n",
            "2\n",
            "3\n",
            "4\n",
            "5\n",
            "6\n",
            "7\n"
          ],
          "name": "stdout"
        }
      ]
    },
    {
      "metadata": {
        "id": "qkG-DZNxXxkS",
        "colab_type": "code",
        "colab": {
          "base_uri": "https://localhost:8080/",
          "height": 187
        },
        "outputId": "dafb204b-dc10-46b3-8d1d-d110df078e3b"
      },
      "cell_type": "code",
      "source": [
        "for i in range(10):\n",
        "  if i > 4:\n",
        "    print(\"El Fin\")\n",
        "    continue\n",
        "  elif i < 7:\n",
        "      print(i)"
      ],
      "execution_count": 25,
      "outputs": [
        {
          "output_type": "stream",
          "text": [
            "0\n",
            "1\n",
            "2\n",
            "3\n",
            "4\n",
            "El Fin\n",
            "El Fin\n",
            "El Fin\n",
            "El Fin\n",
            "El Fin\n"
          ],
          "name": "stdout"
        }
      ]
    },
    {
      "metadata": {
        "id": "EqqElPAFYeoM",
        "colab_type": "code",
        "colab": {
          "base_uri": "https://localhost:8080/",
          "height": 34
        },
        "outputId": "fb9235a1-210b-4d0f-9300-fbad878b25ad"
      },
      "cell_type": "code",
      "source": [
        "res = []\n",
        "for i in range(1,11):\n",
        "  x = 27*i\n",
        "  res.append(x)\n",
        "print(res)\n"
      ],
      "execution_count": 28,
      "outputs": [
        {
          "output_type": "stream",
          "text": [
            "[27, 54, 81, 108, 135, 162, 189, 216, 243, 270]\n"
          ],
          "name": "stdout"
        }
      ]
    },
    {
      "metadata": {
        "id": "yc00ALDsZVUs",
        "colab_type": "code",
        "colab": {
          "base_uri": "https://localhost:8080/",
          "height": 34
        },
        "outputId": "a5cbfb16-b4fb-4739-e5e5-7b62a8ef3954"
      },
      "cell_type": "code",
      "source": [
        "[27 * x for x in range(1,20) if x <= 10]"
      ],
      "execution_count": 29,
      "outputs": [
        {
          "output_type": "execute_result",
          "data": {
            "text/plain": [
              "[27, 54, 81, 108, 135, 162, 189, 216, 243, 270]"
            ]
          },
          "metadata": {
            "tags": []
          },
          "execution_count": 29
        }
      ]
    },
    {
      "metadata": {
        "id": "jv6TNcGSaFvD",
        "colab_type": "code",
        "colab": {
          "base_uri": "https://localhost:8080/",
          "height": 51
        },
        "outputId": "cc23086c-8e45-4135-e942-53c62f57420b"
      },
      "cell_type": "code",
      "source": [
        "dividir = 5\n",
        "# dos listas\n",
        "bajos = []; altos = []\n",
        "# dividir las listas \n",
        "for i in range(10):\n",
        "  if (i > dividir):\n",
        "    bajos.append(i)\n",
        "  else:\n",
        "    altos.append(i)\n",
        "    \n",
        "    \n",
        "print(\"bajos\", bajos)\n",
        "print(\"altos\", altos)\n"
      ],
      "execution_count": 30,
      "outputs": [
        {
          "output_type": "stream",
          "text": [
            "bajos [6, 7, 8, 9]\n",
            "altos [0, 1, 2, 3, 4, 5]\n"
          ],
          "name": "stdout"
        }
      ]
    }
  ]
}